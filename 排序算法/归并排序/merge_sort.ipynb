{
 "cells": [
  {
   "cell_type": "code",
   "execution_count": 1,
   "metadata": {},
   "outputs": [
    {
     "name": "stdout",
     "output_type": "stream",
     "text": [
      "iList = [9, 4, 7, 5, 1, 3]\n",
      "merge [4],[7] -> [4, 7]\n",
      "merge [9],[4, 7] -> [4, 7, 9]\n",
      "merge [1],[3] -> [1, 3]\n",
      "merge [5],[1, 3] -> [1, 3, 5]\n",
      "merge [4, 7, 9],[1, 3, 5] -> [1, 3, 4, 5, 7, 9]\n",
      "sorted iList = [1, 3, 4, 5, 7, 9]\n",
      "----------------------------------------\n",
      "cList = [1, 7, 4, 1, 5, 7, 3, 7, 4, 9]\n",
      "merge [1],[7] -> [1, 7]\n",
      "merge [1],[5] -> [1, 5]\n",
      "merge [4],[1, 5] -> [1, 4, 5]\n",
      "merge [1, 7],[1, 4, 5] -> [1, 1, 4, 5, 7]\n",
      "merge [7],[3] -> [3, 7]\n",
      "merge [4],[9] -> [4, 9]\n",
      "merge [7],[4, 9] -> [4, 7, 9]\n",
      "merge [3, 7],[4, 7, 9] -> [3, 4, 7, 7, 9]\n",
      "merge [1, 1, 4, 5, 7],[3, 4, 7, 7, 9] -> [1, 1, 3, 4, 4, 5, 7, 7, 7, 9]\n",
      "sorted cList = [1, 1, 3, 4, 4, 5, 7, 7, 7, 9]\n",
      "----------------------------------------\n",
      "A = [2, 3, 5, 9, 4, 6, 8, 9, 10, 10]\n",
      "merge [2],[3] -> [2, 3]\n",
      "merge [9],[4] -> [4, 9]\n",
      "merge [5],[4, 9] -> [4, 5, 9]\n",
      "merge [2, 3],[4, 5, 9] -> [2, 3, 4, 5, 9]\n",
      "merge [6],[8] -> [6, 8]\n",
      "merge [10],[10] -> [10, 10]\n",
      "merge [9],[10, 10] -> [9, 10, 10]\n",
      "merge [6, 8],[9, 10, 10] -> [6, 8, 9, 10, 10]\n",
      "merge [2, 3, 4, 5, 9],[6, 8, 9, 10, 10] -> [2, 3, 4, 5, 6, 8, 9, 9, 10, 10]\n",
      "sorted A = [2, 3, 4, 5, 6, 8, 9, 9, 10, 10]\n"
     ]
    }
   ],
   "source": [
    "# 归并排序(Merge Sort)\n",
    "\n",
    "import random\n",
    "\n",
    "def merge_list(left: list, right: list) -> list:\n",
    "    l = left.copy(); r = right.copy() # just for debug\n",
    "    mList = []\n",
    "    while left and right:\n",
    "        if left[0] >= right[0]:\n",
    "            mList.append(right.pop(0))\n",
    "        else:\n",
    "            mList.append(left.pop(0))\n",
    "    while left: # left remainder\n",
    "        mList.append(left.pop(0))\n",
    "    while right: # right remainder\n",
    "        mList.append(right.pop(0))\n",
    "    print('merge {},{} -> {}'.format(l, r, mList))\n",
    "    return mList\n",
    "\n",
    "def merge_sort(A: list) -> list:\n",
    "    # base case: 只有一个元素或为空\n",
    "    nLen = len(A)\n",
    "    if nLen <= 1:\n",
    "        return A\n",
    "    mid = nLen // 2\n",
    "    left, right = A[:mid], A[mid:]\n",
    "    return merge_list(merge_sort(left), merge_sort(right))\n",
    "\n",
    "if __name__ == \"__main__\":\n",
    "    # 在 [1,10] 之间随机挑选6个数\n",
    "    n = 6; left = 1; right = 10\n",
    "    iList = random.sample(range(left,right+1), n)\n",
    "    print('iList =', iList)\n",
    "    sorted_iList = merge_sort(iList)\n",
    "    print('sorted iList =', sorted_iList)\n",
    "    print('-'*40)\n",
    "    # 重复部分元素\n",
    "    cList = random.sample(iList, k=10, counts=[1,2,3,1,2,1])\n",
    "    print('cList =', cList)\n",
    "    sorted_cList = merge_sort(cList)\n",
    "    print('sorted cList =', sorted_cList)\n",
    "    print('-'*40)\n",
    "    # 测试用例1：最左侧、最右侧部分已经排好序。\n",
    "    A = [2, 3, 5, 9, 4, 6, 8, 9, 10, 10]\n",
    "    print('A =', A)\n",
    "    sorted_A = merge_sort(A)\n",
    "    print('sorted A =', sorted_A)"
   ]
  }
 ],
 "metadata": {
  "kernelspec": {
   "display_name": "base",
   "language": "python",
   "name": "python3"
  },
  "language_info": {
   "codemirror_mode": {
    "name": "ipython",
    "version": 3
   },
   "file_extension": ".py",
   "mimetype": "text/x-python",
   "name": "python",
   "nbconvert_exporter": "python",
   "pygments_lexer": "ipython3",
   "version": "3.9.16"
  },
  "orig_nbformat": 4
 },
 "nbformat": 4,
 "nbformat_minor": 2
}
